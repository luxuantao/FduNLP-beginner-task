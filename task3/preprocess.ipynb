{
 "cells": [
  {
   "cell_type": "code",
   "execution_count": 25,
   "metadata": {},
   "outputs": [],
   "source": [
    "import pickle\n",
    "import numpy as np\n",
    "import string\n",
    "\n",
    "data_train_dir = \"data/snli_1.0/snli_1.0_train.txt\"\n",
    "data_dev_dir = \"data/snli_1.0/snli_1.0_dev.txt\"\n",
    "embedding_file_dir = \"data/embedding/glove.6B.50d.txt\"\n",
    "worddict_dir = \"data/worddict.txt\"\n",
    "data_train_str_dir = \"data/train_data_str.pkl\"\n",
    "data_train_id_dir = \"data/train_data_id.pkl\"\n",
    "data_dev_str_dir = \"data/dev_data_str.pkl\"\n",
    "data_dev_id_dir = \"data/dev_data_id.pkl\"\n",
    "embedding_matrix_dir = \"data/embedding_matrix.pkl\""
   ]
  },
  {
   "cell_type": "code",
   "execution_count": 3,
   "metadata": {},
   "outputs": [],
   "source": [
    "def read_data(data_dir):\n",
    "    premise = []\n",
    "    hypothesis = []\n",
    "    labels = [] \n",
    "    labels_map = {\"entailment\": 0, \"neutral\": 1, \"contradiction\": 2}\n",
    "    punct_table = str.maketrans({key: \" \" for key in string.punctuation}) # 去掉标点符号\n",
    "    with open(data_dir, 'r', encoding='utf-8') as lines:\n",
    "        next(lines)\n",
    "        for line in lines:\n",
    "            line = line.strip().split('\\t')\n",
    "            if line[0] not in labels_map:   #忽略没有label的例子\n",
    "                continue\n",
    "            premise.append(line[5].translate(punct_table).lower())\n",
    "            hypothesis.append(line[6].translate(punct_table).lower())\n",
    "            labels.append(line[0])\n",
    "    return {\"premise\": premise, \"hypothesis\": hypothesis, \"labels\": labels}   "
   ]
  },
  {
   "cell_type": "code",
   "execution_count": 13,
   "metadata": {},
   "outputs": [],
   "source": [
    "def build_worddict(data):\n",
    "    words = [\"_PAD_\", \"_OOV_\", \"_BOS_\", \"_EOS_\"]\n",
    "    for sentence in data[\"premise\"]:\n",
    "        words.extend(sentence.strip().split(\" \"))\n",
    "    for sentence in data[\"hypothesis\"]:\n",
    "        words.extend(sentence.strip().split(\" \")) \n",
    "    word_id = {}\n",
    "    id_word = {}\n",
    "    i = 0\n",
    "    for word in words:\n",
    "        if word not in word_id:\n",
    "            word_id[word] = i\n",
    "            id_word[i] = word\n",
    "            i += 1\n",
    "    #保存词典\n",
    "    with open(worddict_dir, \"w\", encoding='utf-8') as f:\n",
    "        for word, id_ in word_id.items():\n",
    "            f.write(f\"{word}\\t{id_}\\n\")\n",
    "    return word_id, id_word "
   ]
  },
  {
   "cell_type": "code",
   "execution_count": 15,
   "metadata": {},
   "outputs": [],
   "source": [
    "def sentence2idList(sentence, word_id):\n",
    "    ids = [word_id[\"_BOS_\"]]\n",
    "    sentence = sentence.strip().split(\" \")\n",
    "    for word in sentence:\n",
    "        if word not in word_id:\n",
    "            ids.append(word_id[\"_OOV_\"])\n",
    "        else:\n",
    "            ids.append(word_id[word])\n",
    "    ids.append(word_id[\"_EOS_\"])\n",
    "    return ids"
   ]
  },
  {
   "cell_type": "code",
   "execution_count": 16,
   "metadata": {},
   "outputs": [],
   "source": [
    "def data2id(data, word_id):\n",
    "    premise_id = []\n",
    "    hypothesis_id = []\n",
    "    labels_id = [] \n",
    "    labels_map = {\"entailment\": 0, \"neutral\": 1, \"contradiction\": 2}\n",
    "    for i, label in enumerate(data[\"labels\"]):\n",
    "        if label not in labels_map:   #忽略没有label的例子\n",
    "            continue\n",
    "        premise_id.append(sentence2idList(data[\"premise\"][i], word_id))\n",
    "        hypothesis_id.append(sentence2idList(data[\"hypothesis\"][i], word_id))\n",
    "        labels_id.append(labels_map[label])\n",
    "            \n",
    "    return {\"premise_id\": premise_id, \"hypothesis_id\": hypothesis_id, \"labels_id\": labels_id}    "
   ]
  },
  {
   "cell_type": "code",
   "execution_count": 21,
   "metadata": {},
   "outputs": [],
   "source": [
    "def build_embeddings(embedding_file, word_id):\n",
    "    #读取文件存入集合中\n",
    "    embeddings_map = {}\n",
    "    with open(embedding_file, 'r', encoding='utf-8') as f:\n",
    "        for line in f.readlines():\n",
    "            line = line.strip().split()\n",
    "            word = line[0]\n",
    "            if word in word_id:\n",
    "                embeddings_map[word] = line[1:]   \n",
    "    #放入矩阵中\n",
    "    words_num = len(word_id)\n",
    "    embedding_dim = len(embeddings_map['a'])\n",
    "    embedding_matrix = np.zeros((words_num, embedding_dim))\n",
    "    missed_cnt = 0\n",
    "    for i, word in enumerate(word_id):\n",
    "        if word in embeddings_map:\n",
    "            embedding_matrix[i] = embeddings_map[word]\n",
    "        else:\n",
    "            if word == \"_PAD_\":\n",
    "                continue\n",
    "            missed_cnt += 1\n",
    "            embedding_matrix[i] = np.random.normal(size=embedding_dim)\n",
    "    print(\"missed word count: %d\" % missed_cnt)\n",
    "    return embedding_matrix"
   ]
  },
  {
   "cell_type": "code",
   "execution_count": 26,
   "metadata": {},
   "outputs": [],
   "source": [
    "#读取数据\n",
    "data_str = read_data(data_train_dir)"
   ]
  },
  {
   "cell_type": "code",
   "execution_count": 14,
   "metadata": {},
   "outputs": [],
   "source": [
    "#构建词典\n",
    "word_id, id_word = build_worddict(data_str)   "
   ]
  },
  {
   "cell_type": "code",
   "execution_count": 17,
   "metadata": {},
   "outputs": [],
   "source": [
    "#清洗数据并转换为id\n",
    "data_id = data2id(data_str, word_id)"
   ]
  },
  {
   "cell_type": "code",
   "execution_count": 19,
   "metadata": {},
   "outputs": [],
   "source": [
    "#保存 data_train_str和data_train_id\n",
    "with open(data_train_str_dir, \"wb\") as f:\n",
    "    pickle.dump(data_str, f)\n",
    "    \n",
    "with open(data_train_id_dir, \"wb\") as f:\n",
    "    pickle.dump(data_id, f)"
   ]
  },
  {
   "cell_type": "code",
   "execution_count": 24,
   "metadata": {},
   "outputs": [
    {
     "name": "stdout",
     "output_type": "stream",
     "text": [
      "missed word count: 5994\n",
      "embedding_matrix size:  (33268, 50)\n"
     ]
    }
   ],
   "source": [
    "embedding_matrix = build_embeddings(embedding_file_dir, word_id)\n",
    "print(\"embedding_matrix size: \", embedding_matrix.shape)\n",
    "\n",
    "with open(embedding_matrix_dir, \"wb\") as f:\n",
    "    pickle.dump(embedding_matrix, f)"
   ]
  },
  {
   "cell_type": "code",
   "execution_count": 28,
   "metadata": {},
   "outputs": [],
   "source": [
    "#读取数据\n",
    "data_dev_str = read_data(data_dev_dir)"
   ]
  },
  {
   "cell_type": "code",
   "execution_count": 30,
   "metadata": {},
   "outputs": [],
   "source": [
    "data_id_dev = data2id(data_dev_str, word_id)"
   ]
  },
  {
   "cell_type": "code",
   "execution_count": 31,
   "metadata": {},
   "outputs": [],
   "source": [
    "with open(data_dev_str_dir, \"wb\") as f:\n",
    "    pickle.dump(data_dev_str, f)\n",
    "    \n",
    "with open(data_dev_id_dir, \"wb\") as f:\n",
    "    pickle.dump(data_id_dev, f)"
   ]
  },
  {
   "cell_type": "code",
   "execution_count": null,
   "metadata": {},
   "outputs": [],
   "source": []
  }
 ],
 "metadata": {
  "kernelspec": {
   "display_name": "Python 3",
   "language": "python",
   "name": "python3"
  },
  "language_info": {
   "codemirror_mode": {
    "name": "ipython",
    "version": 3
   },
   "file_extension": ".py",
   "mimetype": "text/x-python",
   "name": "python",
   "nbconvert_exporter": "python",
   "pygments_lexer": "ipython3",
   "version": "3.7.1"
  }
 },
 "nbformat": 4,
 "nbformat_minor": 2
}
